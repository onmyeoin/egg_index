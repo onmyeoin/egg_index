{
 "cells": [
  {
   "cell_type": "markdown",
   "id": "8f736362",
   "metadata": {},
   "source": [
    "# Global Egg Price Index\n",
    "This notebook consolidates data processing, visualisation, and normalisation steps for building the Global Egg Price Index."
   ]
  },
  {
   "cell_type": "code",
   "execution_count": null,
   "id": "a3f0b7b1",
   "metadata": {},
   "outputs": [],
   "source": [
    "\n",
    "import pandas as pd\n",
    "import matplotlib.pyplot as plt\n",
    "\n",
    "# Set global plot style\n",
    "plt.style.use(\"Solarize_Light2\")\n",
    "line_color = \"#D2691E\"  # Rust/Orange colour\n",
    "line_width = 1.8\n"
   ]
  },
  {
   "cell_type": "markdown",
   "id": "fe092cbe",
   "metadata": {},
   "source": [
    "## 1. US Egg Price Analysis"
   ]
  },
  {
   "cell_type": "code",
   "execution_count": null,
   "id": "1230dd9b",
   "metadata": {},
   "outputs": [],
   "source": [
    "\n",
    "# Load US egg price data\n",
    "us_file = \"../usa_data/egg_price_reformatted.csv\"\n",
    "df_us = pd.read_csv(us_file, parse_dates=[\"Date\"])\n",
    "\n",
    "# Plot full range\n",
    "fig, ax = plt.subplots(figsize=(12, 6))\n",
    "ax.plot(df_us[\"Date\"], df_us[\"Price\"], color=line_color, linewidth=line_width)\n",
    "ax.set_title(\"US Egg Prices Per Dozen (1980 - Present)\", fontsize=16)\n",
    "ax.set_xlabel(\"Date\")\n",
    "ax.set_ylabel(\"Price (USD per dozen)\")\n",
    "ax.grid(False)\n",
    "plt.show()\n",
    "\n",
    "# Plot 2020 onwards\n",
    "df_us_zoom = df_us[df_us[\"Date\"] >= \"2020-01-01\"]\n",
    "fig, ax = plt.subplots(figsize=(12, 6))\n",
    "ax.plot(df_us_zoom[\"Date\"], df_us_zoom[\"Price\"], color=line_color, linewidth=line_width)\n",
    "ax.set_title(\"US Egg Prices Per Dozen (2020 - Present)\", fontsize=16)\n",
    "ax.set_xlabel(\"Date\")\n",
    "ax.set_ylabel(\"Price (USD per dozen)\")\n",
    "ax.grid(False)\n",
    "plt.show()\n"
   ]
  },
  {
   "cell_type": "markdown",
   "id": "4bb65979",
   "metadata": {},
   "source": [
    "## 2. Ireland Egg Price Analysis"
   ]
  },
  {
   "cell_type": "code",
   "execution_count": null,
   "id": "422bc7c2",
   "metadata": {},
   "outputs": [],
   "source": [
    "\n",
    "file_path_ie = \"../ie_data/CPM12.20250802T120846.csv\"\n",
    "df_ie = pd.read_csv(file_path_ie)\n",
    "\n",
    "# Convert date and price\n",
    "df_ie[\"Date\"] = pd.to_datetime(df_ie[\"Month\"], format=\"%Y %B\")\n",
    "df_ie[\"Price_EUR_Dozen\"] = df_ie[\"VALUE\"] * 2\n",
    "df_ie = df_ie.sort_values(\"Date\")\n",
    "\n",
    "# Plot full range\n",
    "fig, ax = plt.subplots(figsize=(12, 6))\n",
    "ax.plot(df_ie[\"Date\"], df_ie[\"Price_EUR_Dozen\"], color=line_color, linewidth=line_width)\n",
    "ax.set_title(\"Ireland Egg Prices Per Dozen (2012 - Present)\", fontsize=16)\n",
    "ax.set_xlabel(\"Date\")\n",
    "ax.set_ylabel(\"Price (EUR per dozen)\")\n",
    "ax.grid(False)\n",
    "plt.show()\n",
    "\n",
    "# Plot 2020 onwards\n",
    "df_ie_zoom = df_ie[df_ie[\"Date\"] >= \"2020-01-01\"]\n",
    "fig, ax = plt.subplots(figsize=(12, 6))\n",
    "ax.plot(df_ie_zoom[\"Date\"], df_ie_zoom[\"Price_EUR_Dozen\"], color=line_color, linewidth=line_width)\n",
    "ax.set_title(\"Ireland Egg Prices Per Dozen (2020 - Present)\", fontsize=16)\n",
    "ax.set_xlabel(\"Date\")\n",
    "ax.set_ylabel(\"Price (EUR per dozen)\")\n",
    "ax.grid(False)\n",
    "plt.show()\n"
   ]
  },
  {
   "cell_type": "markdown",
   "id": "90faefce",
   "metadata": {},
   "source": [
    "## 3. FX Normalisation (EUR to USD)"
   ]
  },
  {
   "cell_type": "code",
   "execution_count": null,
   "id": "551666d2",
   "metadata": {},
   "outputs": [],
   "source": [
    "\n",
    "# Load EUR/USD exchange rates\n",
    "fx_file = \"../rates/eur_usd.csv\"\n",
    "df_fx = pd.read_csv(fx_file, parse_dates=[\"Unnamed: 0\"])\n",
    "df_fx.rename(columns={\"Unnamed: 0\": \"Date\"}, inplace=True)\n",
    "\n",
    "# Merge and calculate USD price\n",
    "df_ie = pd.merge(df_ie, df_fx, on=\"Date\", how=\"left\")\n",
    "df_ie[\"Price_USD_Dozen\"] = df_ie[\"Price_EUR_Dozen\"] * df_ie[\"EUR_USD\"]\n",
    "\n",
    "# Plot EUR vs USD\n",
    "fig, ax = plt.subplots(figsize=(12, 6))\n",
    "ax.plot(df_ie[\"Date\"], df_ie[\"Price_EUR_Dozen\"], label=\"EUR\", color=\"blue\")\n",
    "ax.plot(df_ie[\"Date\"], df_ie[\"Price_USD_Dozen\"], label=\"USD\", color=\"green\")\n",
    "ax.set_title(\"Ireland Egg Prices: EUR vs USD (Per Dozen)\", fontsize=16)\n",
    "ax.set_xlabel(\"Date\")\n",
    "ax.set_ylabel(\"Price per dozen\")\n",
    "ax.legend()\n",
    "ax.grid(False)\n",
    "plt.show()\n"
   ]
  },
  {
   "cell_type": "markdown",
   "id": "b6736991",
   "metadata": {},
   "source": [
    "## 4. (Optional) Fetch Latest EUR/USD from Frankfurter API"
   ]
  },
  {
   "cell_type": "code",
   "execution_count": null,
   "id": "36617574",
   "metadata": {},
   "outputs": [],
   "source": [
    "\n",
    "import requests\n",
    "\n",
    "url = \"https://api.frankfurter.app/1999-01-01..?to=USD&from=EUR\"\n",
    "response = requests.get(url)\n",
    "if response.status_code == 200:\n",
    "    fx_data = pd.DataFrame.from_dict(response.json()[\"rates\"], orient=\"index\")\n",
    "    fx_data.index = pd.to_datetime(fx_data.index)\n",
    "    fx_data.rename(columns={\"USD\": \"EUR_USD\"}, inplace=True)\n",
    "    display(fx_data.head())\n",
    "else:\n",
    "    print(\"Error fetching FX rates:\", response.status_code)\n"
   ]
  }
 ],
 "metadata": {},
 "nbformat": 4,
 "nbformat_minor": 5
}
